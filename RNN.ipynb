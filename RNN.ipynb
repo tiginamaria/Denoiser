{
  "nbformat": 4,
  "nbformat_minor": 0,
  "metadata": {
    "colab": {
      "name": "RNN.ipynb",
      "provenance": [],
      "collapsed_sections": [],
      "machine_shape": "hm"
    },
    "kernelspec": {
      "name": "python3",
      "display_name": "Python 3"
    }
  },
  "cells": [
    {
      "cell_type": "code",
      "metadata": {
        "id": "mfYKrjpqvmwL",
        "colab_type": "code",
        "outputId": "75eb8b08-8497-4a3c-bbba-a13837dc1c2e",
        "colab": {
          "base_uri": "https://localhost:8080/",
          "height": 71
        }
      },
      "source": [
        "!pip install soundfile\n",
        "import librosa, librosa.display\n",
        "import numpy as np\n",
        "import soundfile as sf\n",
        "import os\n",
        "import matplotlib.pyplot as plt\n",
        "import math, random\n",
        "import torch\n",
        "from IPython.display import Audio\n",
        "from sklearn.model_selection import train_test_split\n"
      ],
      "execution_count": 0,
      "outputs": [
        {
          "output_type": "stream",
          "text": [
            "Requirement already satisfied: soundfile in /usr/local/lib/python3.6/dist-packages (0.10.3.post1)\n",
            "Requirement already satisfied: cffi>=1.0 in /usr/local/lib/python3.6/dist-packages (from soundfile) (1.13.2)\n",
            "Requirement already satisfied: pycparser in /usr/local/lib/python3.6/dist-packages (from cffi>=1.0->soundfile) (2.19)\n"
          ],
          "name": "stdout"
        }
      ]
    },
    {
      "cell_type": "code",
      "metadata": {
        "id": "Fm_fgfd-zlX8",
        "colab_type": "code",
        "outputId": "b705d3c1-1218-4a96-fd89-dfef7ed51ab7",
        "colab": {
          "base_uri": "https://localhost:8080/",
          "height": 35
        }
      },
      "source": [
        "from google.colab import drive\n",
        "drive.mount('/content/drive')"
      ],
      "execution_count": 0,
      "outputs": [
        {
          "output_type": "stream",
          "text": [
            "Drive already mounted at /content/drive; to attempt to forcibly remount, call drive.mount(\"/content/drive\", force_remount=True).\n"
          ],
          "name": "stdout"
        }
      ]
    },
    {
      "cell_type": "markdown",
      "metadata": {
        "id": "iYvnZOqhx515",
        "colab_type": "text"
      },
      "source": [
        "Using audio dataset from http://www.openslr.org/12/ in .flac format"
      ]
    },
    {
      "cell_type": "code",
      "metadata": {
        "id": "9n5t8oAHx2xW",
        "colab_type": "code",
        "colab": {}
      },
      "source": [
        "def flac_to_wav(path='.'):\n",
        "    \"\"\"Convert .flac to .wav files from given directory\n",
        "    :param path: path to directory with .flac audio files\n",
        "    \"\"\"\n",
        "    cnt = 0\n",
        "    for folder, subs, files in os.walk(path):\n",
        "      for file in files:\n",
        "        if (file.endswith(\".flac\")):\n",
        "          file_flac = os.path.join(folder, file)\n",
        "          file_wav = \"Audio/{0}.wav\".format(cnt)\n",
        "          os.system(\"ffmpeg -i {0} {1}\".format(file_flac, file_wav))\n",
        "          cnt += 1"
      ],
      "execution_count": 0,
      "outputs": []
    },
    {
      "cell_type": "markdown",
      "metadata": {
        "id": "EpC1ROdXycv-",
        "colab_type": "text"
      },
      "source": [
        "Methods to load and construct dataset "
      ]
    },
    {
      "cell_type": "code",
      "metadata": {
        "id": "cKPPhmjGc0gj",
        "colab_type": "code",
        "colab": {}
      },
      "source": [
        "def read_audio(path, limit=300):\n",
        "    \"\"\"Read .wav files from given directory\n",
        "    :param path: path to directory with audio\n",
        "    :return audio_files: array of arrays with .wav files content  \n",
        "    \"\"\"\n",
        "    audio_files = []\n",
        "    for folder, subs, files in os.walk(path):\n",
        "      for file in files:\n",
        "        if (file.endswith(\".wav\") or file.endswith(\".flac\")):\n",
        "          filename = os.path.join(folder, file)\n",
        "          print('load ' + file)\n",
        "          audio_files.append(read_signal(filename)[0])\n",
        "        if len(audio_files) == limit:\n",
        "          return audio_files\n",
        "    return audio_files\n",
        "\n",
        "\n",
        "def read_signal(filename, normalization='max'):\n",
        "    \"\"\"Imports a .wav file as a scaled float numpy array\n",
        "    :param filename: audio's filename\n",
        "    :return signal: imported signal from .wav\n",
        "    :return sr: sampling rate\n",
        "    :return norm: normalization coefficient\n",
        "    \"\"\"\n",
        "    signal, sr = sf.read(filename)\n",
        "    if normalization == 'max':\n",
        "      norm = max(signal)\n",
        "    else:\n",
        "      norm = 1\n",
        "    signal /= norm\n",
        "    return signal, sr, norm\n",
        "\n",
        "\n",
        "def decompose(fft):\n",
        "    \"\"\"Decomposes fft of signal to magnitude spectrum nd phase spectrum\n",
        "    :param fft: fft of signal\n",
        "    :return magnitude: magnitude spectrum\n",
        "    :return phase: phase spectrum\n",
        "    \"\"\"\n",
        "    return np.abs(fft), np.angle(fft)"
      ],
      "execution_count": 0,
      "outputs": []
    },
    {
      "cell_type": "code",
      "metadata": {
        "id": "zzpIGv1bzADQ",
        "colab_type": "code",
        "colab": {}
      },
      "source": [
        "def split_signal(signal, len=100):\n",
        "    \"\"\"Split signal array into parts of given length\n",
        "    :param signal: signal array\n",
        "    :param len: slice length\n",
        "    :return signal: imported signal from .wav\n",
        "    :return sr: sampling rate\n",
        "    :return norm: normalization coefficient\n",
        "    \"\"\"\n",
        "    n = signal.shape[0]\n",
        "    k = n // len\n",
        "    sliced_signal = []\n",
        "    for i in range(k):\n",
        "      sliced_signal.append(signal[i * len : (i + 1) * len])\n",
        "    if (k * len < n):\n",
        "      sliced_signal.append(np.concatenate((signal[k * len : n], np.zeros(len - (n - k * len)))))\n",
        "    return sliced_signal\n",
        "\n",
        "\n",
        "def chunks(dataset, batch_size=100):\n",
        "    \"\"\"Split dataset into batches of given size\n",
        "    :param dataset: dataset\n",
        "    :param batch_size: batch size\n",
        "    :return batches: batches of dataset\n",
        "    \"\"\"\n",
        "    batches = []\n",
        "    for i in range(0, len(dataset), batch_size):\n",
        "      if (i + batch_size <= len(dataset)):\n",
        "        batches.append(dataset[i:i+batch_size])\n",
        "    return np.array(batches)\n",
        "\n",
        "\n",
        "def fit_size(signal, size):\n",
        "    \"\"\"Generate signal of given size by concatenating given signal\n",
        "    :param signal: input signal\n",
        "    :param size: desired signal size\n",
        "    :return pumped_signal: pumped signal of given size\n",
        "    \"\"\"\n",
        "    pumped_signal = signal\n",
        "    while len(pumped_signal) < size:\n",
        "        pumped_signal = np.concatenate((pumped_signal, pumped_signal))\n",
        "    return pumped_signal[:size]\n",
        "\n",
        "\n",
        "def add_noise(signal, noise, alpha=0.02):\n",
        "    \"\"\"Add noise to signal\n",
        "    :param signal: input signal\n",
        "    :param noise: noise signal\n",
        "    :return noisy_signal: input signal with noise\n",
        "    \"\"\"\n",
        "    noise = fit_size(noise, len(signal))\n",
        "    return signal + alpha * noise\n",
        "\n",
        "\n",
        "def get_dataset(signals, noise, input_size=100):\n",
        "    \"\"\"Generate dataset of noised and clean signals\n",
        "    :param signal_dir: directory with signal .wav files\n",
        "    :param noise_dir: directory with noise .wav files\n",
        "    :return: dataset of noised signals and clear signals\n",
        "    \"\"\"\n",
        "    X = []\n",
        "    y = []\n",
        "    for signal in signals:\n",
        "      noised_signal = add_noise(signal, noise)\n",
        "      X += split_signal(noised_signal, input_size)\n",
        "      y += split_signal(signal, input_size)\n",
        "    return np.array(X), np.array(y)"
      ],
      "execution_count": 0,
      "outputs": []
    },
    {
      "cell_type": "markdown",
      "metadata": {
        "id": "HZ2yVWSV0Mnn",
        "colab_type": "text"
      },
      "source": [
        "Load .wav files from goolge drive(login: audio.denoiser.2020@gmail.com password: audiodenoiser2020)"
      ]
    },
    {
      "cell_type": "code",
      "metadata": {
        "id": "O_5RbKA5AizR",
        "colab_type": "code",
        "outputId": "d3372bd4-ea79-497b-dbb1-af8e40fd5bc4",
        "colab": {
          "base_uri": "https://localhost:8080/",
          "height": 1000
        }
      },
      "source": [
        "signals = read_audio('/content/drive/My Drive/Dataset/Audio')\n",
        "noises = read_audio('/content/drive/My Drive/Dataset/Noise')"
      ],
      "execution_count": 0,
      "outputs": [
        {
          "output_type": "stream",
          "text": [
            "load 3247.flac\n",
            "load 5378.flac\n",
            "load 5080.flac\n",
            "load 6586.flac\n",
            "load 4857.flac\n",
            "load 1977.flac\n",
            "load 6396.flac\n",
            "load 6175.flac\n",
            "load 1939.flac\n",
            "load 3372.flac\n",
            "load 6044.flac\n",
            "load 4911.flac\n",
            "load 2500.flac\n",
            "load 3938.flac\n",
            "load 5909.flac\n",
            "load 20357.flac\n",
            "load 3091.flac\n",
            "load 5222.flac\n",
            "load 4940.flac\n",
            "load 3902.flac\n",
            "load 32601.flac\n",
            "load 6106.flac\n",
            "load 3793.flac\n",
            "load 1864.flac\n",
            "load 3824.flac\n",
            "load 6783.flac\n",
            "load 8160.flac\n",
            "load 5406.flac\n",
            "load 4270.flac\n",
            "load 6413.flac\n",
            "load 4575.flac\n",
            "load 2119.flac\n",
            "load 1793.flac\n",
            "load 6576.flac\n",
            "load 6464.flac\n",
            "load 3186.flac\n",
            "load 2753.flac\n",
            "load 1685.flac\n",
            "load 4749.flac\n",
            "load 3484.flac\n",
            "load 3392.flac\n",
            "load 3479.flac\n",
            "load 20353.flac\n",
            "load 4347.flac\n",
            "load 2052.flac\n",
            "load 4323.flac\n",
            "load 2999.flac\n",
            "load 3031.flac\n",
            "load 5245.flac\n",
            "load 6781.flac\n",
            "load 6714.flac\n",
            "load 2308.flac\n",
            "load 1628.flac\n",
            "load 6516.flac\n",
            "load 6625.flac\n",
            "load 6240.flac\n",
            "load 1565.flac\n",
            "load 1551.flac\n",
            "load 3905.flac\n",
            "load 2921.flac\n",
            "load 5380.flac\n",
            "load 4229.flac\n",
            "load 2612.flac\n",
            "load 4309.flac\n",
            "load 3105.flac\n",
            "load 6150.flac\n",
            "load 20460.flac\n",
            "load 5716.flac\n",
            "load 2396.flac\n",
            "load 3129.flac\n",
            "load 6383.flac\n",
            "load 4736.flac\n",
            "load 3444.flac\n",
            "load 2291.flac\n",
            "load 6915.flac\n",
            "load 2777.flac\n",
            "load 2625.flac\n",
            "load 3007.flac\n",
            "load 5193.flac\n",
            "load 1726.flac\n",
            "load 3728.flac\n",
            "load 3645.flac\n",
            "load 2033.flac\n",
            "load 5248.flac\n",
            "load 21684.flac\n",
            "load 3619.flac\n",
            "load 5277.flac\n",
            "load 4414.flac\n",
            "load 5318.flac\n",
            "load 4578.flac\n",
            "load 3465.flac\n",
            "load 6172.flac\n",
            "load 3917.flac\n",
            "load 4956.flac\n",
            "load 5687.flac\n",
            "load 6665.flac\n",
            "load 3527.flac\n",
            "load 1654.flac\n",
            "load 3989.flac\n",
            "load 2096.flac\n",
            "load 4188.flac\n",
            "load 4384.flac\n",
            "load 3038.flac\n",
            "load 1917.flac\n",
            "load 5496.flac\n",
            "load 4568.flac\n",
            "load 2242.flac\n",
            "load 6073.flac\n",
            "load 3709.flac\n",
            "load 32603.flac\n",
            "load 7435.flac\n",
            "load 4395.flac\n",
            "load 4642.flac\n",
            "load 4378.flac\n",
            "load 5315.flac\n",
            "load 2178.flac\n",
            "load 2482.flac\n",
            "load 2008.flac\n",
            "load 3020.flac\n",
            "load 2011.flac\n",
            "load 2199.flac\n",
            "load 3092.flac\n",
            "load 3455.flac\n",
            "load 4706.flac\n",
            "load 3877.flac\n",
            "load 6443.flac\n",
            "load 1633.flac\n",
            "load 1984.flac\n",
            "load 6476.flac\n",
            "load 5396.flac\n",
            "load 1694.flac\n",
            "load 4880.flac\n",
            "load 2370.flac\n",
            "load 6646.flac\n",
            "load 2333.flac\n",
            "load 5384.flac\n",
            "load 4969.flac\n",
            "load 3296.flac\n",
            "load 3000.flac\n",
            "load 2410.flac\n",
            "load 3908.flac\n",
            "load 3197.flac\n",
            "load 6441.flac\n",
            "load 2571.flac\n",
            "load 20426.flac\n",
            "load 4006.flac\n",
            "load 4696.flac\n",
            "load 3607.flac\n",
            "load 5126.flac\n",
            "load 3755.flac\n",
            "load 5443.flac\n",
            "load 6487.flac\n",
            "load 3488.flac\n",
            "load 4786.flac\n",
            "load 5188.flac\n",
            "load 22705.flac\n",
            "load 3943.flac\n",
            "load 2156.flac\n",
            "load 7809.flac\n",
            "load 6095.flac\n",
            "load 4501.flac\n",
            "load 4562.flac\n",
            "load 3889.flac\n",
            "load 1941.flac\n",
            "load 2268.flac\n",
            "load 2030.flac\n",
            "load 4662.flac\n",
            "load 4095.flac\n",
            "load 5041.flac\n",
            "load 5855.flac\n",
            "load 4942.flac\n",
            "load 6773.flac\n",
            "load 6123.flac\n",
            "load 1814.flac\n",
            "load 3786.flac\n",
            "load 2036.flac\n",
            "load 2785.flac\n",
            "load 3044.flac\n",
            "load 6641.flac\n",
            "load 5030.flac\n",
            "load 5491.flac\n",
            "load 6200.flac\n",
            "load 1510.flac\n",
            "load 2795.flac\n",
            "load 6028.flac\n",
            "load 3401.flac\n",
            "load 3832.flac\n",
            "load 6795.flac\n",
            "load 4071.flac\n",
            "load 6703.flac\n",
            "load 5110.flac\n",
            "load 5263.flac\n",
            "load 4357.flac\n",
            "load 2120.flac\n",
            "load 3340.flac\n",
            "load 6235.flac\n",
            "load 1576.flac\n",
            "load 5438.flac\n",
            "load 4194.flac\n",
            "load 32624.flac\n",
            "load 4815.flac\n",
            "load 4111.flac\n",
            "load 4078.flac\n",
            "load 4756.flac\n",
            "load 3933.flac\n",
            "load 6119.flac\n",
            "load 3990.flac\n",
            "load 20057.flac\n",
            "load 2773.flac\n",
            "load 1974.flac\n",
            "load 5559.flac\n",
            "load 2162.flac\n",
            "load 2381.flac\n",
            "load 3453.flac\n",
            "load 6181.flac\n",
            "load 6021.flac\n",
            "load 6713.flac\n",
            "load 3830.flac\n",
            "load 2086.flac\n",
            "load 3650.flac\n",
            "load 6671.flac\n",
            "load 5455.flac\n",
            "load 6496.flac\n",
            "load 4307.flac\n",
            "load 1496.flac\n",
            "load 2537.flac\n",
            "load 4810.flac\n",
            "load 6909.flac\n",
            "load 2080.flac\n",
            "load 2530.flac\n",
            "load 4944.flac\n",
            "load 6457.flac\n",
            "load 6495.flac\n",
            "load 7280.flac\n",
            "load 21699.flac\n",
            "load 4959.flac\n",
            "load 1915.flac\n",
            "load 4376.flac\n",
            "load 3276.flac\n",
            "load 1891.flac\n",
            "load 4234.flac\n",
            "load 4454.flac\n",
            "load 4918.flac\n",
            "load 5954.flac\n",
            "load 4350.flac\n",
            "load 3666.flac\n",
            "load 2352.flac\n",
            "load 4493.flac\n",
            "load 20070.flac\n",
            "load 6379.flac\n",
            "load 5917.flac\n",
            "load 2843.flac\n",
            "load 2438.flac\n",
            "load 6397.flac\n",
            "load 1783.flac\n",
            "load 3930.flac\n",
            "load 3257.flac\n",
            "load 1936.flac\n",
            "load 4370.flac\n",
            "load 3572.flac\n",
            "load 2723.flac\n",
            "load 1969.flac\n",
            "load 4769.flac\n",
            "load 4236.flac\n",
            "load 1990.flac\n",
            "load 4276.flac\n",
            "load 3009.flac\n",
            "load 7553.flac\n",
            "load 2815.flac\n",
            "load 32589.flac\n",
            "load 3582.flac\n",
            "load 5938.flac\n",
            "load 3079.flac\n",
            "load 4677.flac\n",
            "load 6284.flac\n",
            "load 6412.flac\n",
            "load 4045.flac\n",
            "load 4105.flac\n",
            "load 1590.flac\n",
            "load 4156.flac\n",
            "load 3218.flac\n",
            "load 6723.flac\n",
            "load 6236.flac\n",
            "load 3385.flac\n",
            "load 1638.flac\n",
            "load 5356.flac\n",
            "load 4987.flac\n",
            "load 4174.flac\n",
            "load 6076.flac\n",
            "load 3436.flac\n",
            "load 5339.flac\n",
            "load 4682.flac\n",
            "load 2745.flac\n",
            "load 6220.flac\n",
            "load 3102.flac\n",
            "load 6511.flac\n",
            "load 4783.flac\n",
            "load 6163.flac\n",
            "load 2779.flac\n",
            "load 2424.flac\n",
            "load BrownianNoise.wav\n",
            "load PinkNoise.wav\n",
            "load WhiteNoise.wav\n"
          ],
          "name": "stdout"
        }
      ]
    },
    {
      "cell_type": "markdown",
      "metadata": {
        "id": "x78OV4MG0taS",
        "colab_type": "text"
      },
      "source": [
        "Construct dataset. Devide audio file in parts of length input_size(padded\n",
        " with zerros)"
      ]
    },
    {
      "cell_type": "code",
      "metadata": {
        "id": "QQq9_wwCsY5G",
        "colab_type": "code",
        "colab": {}
      },
      "source": [
        "input_size = 100\n",
        "hidden_size = 200\n",
        "output_size = input_size\n",
        "num_layers=3\n",
        "X, y = get_dataset(signals, noises[2], input_size)\n",
        "X_train, X_test, y_train, y_test = train_test_split(X, y, test_size=0.33, random_state=42)"
      ],
      "execution_count": 0,
      "outputs": []
    },
    {
      "cell_type": "code",
      "metadata": {
        "id": "THnou_q1lIEk",
        "colab_type": "code",
        "outputId": "ce18698c-6177-4644-9395-5b0134bc78b4",
        "colab": {
          "base_uri": "https://localhost:8080/",
          "height": 380
        }
      },
      "source": [
        "print(X_train[0])\n",
        "Audio(data=add_noise(X_train[0], noises[2]), rate=16000)"
      ],
      "execution_count": 0,
      "outputs": [
        {
          "output_type": "stream",
          "text": [
            "[ 0.04380851  0.08724702  0.08823102  0.08813779  0.07725086  0.06365188\n",
            "  0.04934047  0.05699407  0.0480747   0.04766438  0.0472423   0.03954584\n",
            "  0.03519108  0.02956715  0.0024358   0.00258921 -0.01449381 -0.01009173\n",
            "  0.0034893  -0.00640552 -0.02074039 -0.01497453  0.00604671  0.01713406\n",
            "  0.04605592  0.09331486  0.11833436  0.11741598  0.14650509  0.16281883\n",
            "  0.16335709  0.14858911  0.15903951  0.16631162  0.18763828  0.2095473\n",
            "  0.20915731  0.22222662  0.20868728  0.20358382  0.20376971  0.19923813\n",
            "  0.19831076  0.19743675  0.21146219  0.19935043  0.20863095  0.20328759\n",
            "  0.17280412  0.16346785  0.14468996  0.1515388   0.13626836  0.15034251\n",
            "  0.15783561  0.14897555  0.14915138  0.13508954  0.1212719   0.11172391\n",
            "  0.09250867  0.07208503  0.0840268   0.08586326  0.06569793  0.07291703\n",
            "  0.07589009  0.06791107  0.07655555  0.09486221  0.08440664  0.06386795\n",
            "  0.05764054  0.030483    0.00071428 -0.02814261 -0.03999167 -0.05781292\n",
            " -0.07154075 -0.07275546 -0.07480051 -0.10810599 -0.12558917 -0.13936648\n",
            " -0.17776945 -0.21723771 -0.25245238 -0.25239091 -0.29326298 -0.31355792\n",
            " -0.3291406  -0.3524086  -0.37111413 -0.39794727 -0.41000662 -0.38403801\n",
            " -0.29373026 -0.22757787 -0.14899843 -0.07775553]\n"
          ],
          "name": "stdout"
        },
        {
          "output_type": "execute_result",
          "data": {
            "text/html": [
              "\n",
              "                <audio controls=\"controls\" >\n",
              "                    <source src=\"data:audio/wav;base64,UklGRuwAAABXQVZFZm10IBAAAAABAAEAgD4AAAB9AAACABAAZGF0YcgAAACfDOccFR7uG/sYhBKuEvsRrwy/DhgL9QpFDVcEBQD4AHX4ZP29/Rn/Hf25+3v95AgDEZMZliQ6I7AuUTGgOLsxYzDJOdk/nESyQ8VJJUOQPk4/sj5BP3o9aUL0PxRBpz6LNVU1rDARMXwqszC8MJ8s8zCWLlAnNSU6IX8Y6hzBGOAXYxgjGS0ZVBRyHcAdhhIuD+wK2QCf+Hjz0u776VTmpuVK3rja7dQiyC65U7CPs46hmp2MlVqOq4ydgAGAaoNxncq14tPk6A==\" type=\"audio/wav\" />\n",
              "                    Your browser does not support the audio element.\n",
              "                </audio>\n",
              "              "
            ],
            "text/plain": [
              "<IPython.lib.display.Audio object>"
            ]
          },
          "metadata": {
            "tags": []
          },
          "execution_count": 369
        }
      ]
    },
    {
      "cell_type": "markdown",
      "metadata": {
        "id": "RK4PdHYv1EpN",
        "colab_type": "text"
      },
      "source": [
        "Devide dataset into batches and convert to tensor"
      ]
    },
    {
      "cell_type": "code",
      "metadata": {
        "id": "wiB88D7ToYvt",
        "colab_type": "code",
        "outputId": "f59151ca-4eab-4e99-c104-d3e39f467447",
        "colab": {
          "base_uri": "https://localhost:8080/",
          "height": 35
        }
      },
      "source": [
        "batch_size=50\n",
        "X_train_torch = torch.from_numpy(chunks(X_train, batch_size)).float()\n",
        "print(X_train_torch.shape)\n",
        "y_train_torch = torch.from_numpy(chunks(y_train, batch_size)).float()\n",
        "X_test_torch = torch.from_numpy(chunks(X_test, batch_size)).float()\n",
        "y_test_torch = torch.from_numpy(chunks(y_test, batch_size)).float()"
      ],
      "execution_count": 0,
      "outputs": [
        {
          "output_type": "stream",
          "text": [
            "torch.Size([8138, 50, 100])\n"
          ],
          "name": "stdout"
        }
      ]
    },
    {
      "cell_type": "markdown",
      "metadata": {
        "id": "L8plQ5__Dnjn",
        "colab_type": "text"
      },
      "source": [
        "# RNN"
      ]
    },
    {
      "cell_type": "code",
      "metadata": {
        "id": "m8EvFYzZEFGT",
        "colab_type": "code",
        "outputId": "f67b57ca-458c-434d-b8ca-ccbb8f57efb8",
        "colab": {
          "base_uri": "https://localhost:8080/",
          "height": 107
        }
      },
      "source": [
        "import torch\n",
        "import torch.nn as nn\n",
        "from torch.autograd import Variable\n",
        "\n",
        "class RNN(nn.Module):\n",
        "    def __init__(self, input_size, hidden_size, output_size, num_layers):\n",
        "        super(RNN, self).__init__()\n",
        "        self.rnn = nn.RNN(input_size=input_size, hidden_size=hidden_size, num_layers=num_layers, batch_first=True)\n",
        "        self.linear = nn.Linear(hidden_size, output_size)\n",
        "        self.act = nn.ReLU()\n",
        "    def forward(self, x):\n",
        "        pred, hidden = self.rnn(x)\n",
        "        pred = self.act(self.linear(pred))\n",
        "        return pred\n",
        "\n",
        "model = RNN(input_size, hidden_size, output_size, num_layers)\n",
        "print(model)"
      ],
      "execution_count": 0,
      "outputs": [
        {
          "output_type": "stream",
          "text": [
            "RNN(\n",
            "  (rnn): RNN(100, 200, num_layers=3, batch_first=True)\n",
            "  (linear): Linear(in_features=200, out_features=100, bias=True)\n",
            "  (act): ReLU()\n",
            ")\n"
          ],
          "name": "stdout"
        }
      ]
    },
    {
      "cell_type": "code",
      "metadata": {
        "id": "cifkbSpEEXAq",
        "colab_type": "code",
        "outputId": "80a34647-9890-44b4-9689-c9c673948730",
        "colab": {
          "base_uri": "https://localhost:8080/",
          "height": 466
        }
      },
      "source": [
        "learning_rate=1e-3\n",
        "optimizer = torch.optim.Adam(model.parameters(), lr=learning_rate)\n",
        "loss_fn = nn.MSELoss()\n",
        "epoch = 100\n",
        "for t in range(epoch):\n",
        "    y_pred = model(X_train_torch)\n",
        "    optimizer.zero_grad()\n",
        "    loss = loss_fn(y_pred, y_train_torch)\n",
        "    print(t, loss.data)\n",
        "    loss.backward()\n",
        "    optimizer.step()"
      ],
      "execution_count": 0,
      "outputs": [
        {
          "output_type": "stream",
          "text": [
            "0 tensor(0.0187)\n",
            "1 tensor(0.0202)\n",
            "2 tensor(0.0336)\n",
            "3 tensor(0.0821)\n"
          ],
          "name": "stdout"
        },
        {
          "output_type": "error",
          "ename": "KeyboardInterrupt",
          "evalue": "ignored",
          "traceback": [
            "\u001b[0;31m---------------------------------------------------------------------------\u001b[0m",
            "\u001b[0;31mKeyboardInterrupt\u001b[0m                         Traceback (most recent call last)",
            "\u001b[0;32m<ipython-input-375-2a808e01ddfa>\u001b[0m in \u001b[0;36m<module>\u001b[0;34m()\u001b[0m\n\u001b[1;32m      4\u001b[0m \u001b[0mepoch\u001b[0m \u001b[0;34m=\u001b[0m \u001b[0;36m100\u001b[0m\u001b[0;34m\u001b[0m\u001b[0;34m\u001b[0m\u001b[0m\n\u001b[1;32m      5\u001b[0m \u001b[0;32mfor\u001b[0m \u001b[0mt\u001b[0m \u001b[0;32min\u001b[0m \u001b[0mrange\u001b[0m\u001b[0;34m(\u001b[0m\u001b[0mepoch\u001b[0m\u001b[0;34m)\u001b[0m\u001b[0;34m:\u001b[0m\u001b[0;34m\u001b[0m\u001b[0;34m\u001b[0m\u001b[0m\n\u001b[0;32m----> 6\u001b[0;31m     \u001b[0my_pred\u001b[0m \u001b[0;34m=\u001b[0m \u001b[0mmodel\u001b[0m\u001b[0;34m(\u001b[0m\u001b[0mX_train_torch\u001b[0m\u001b[0;34m)\u001b[0m\u001b[0;34m\u001b[0m\u001b[0;34m\u001b[0m\u001b[0m\n\u001b[0m\u001b[1;32m      7\u001b[0m     \u001b[0moptimizer\u001b[0m\u001b[0;34m.\u001b[0m\u001b[0mzero_grad\u001b[0m\u001b[0;34m(\u001b[0m\u001b[0;34m)\u001b[0m\u001b[0;34m\u001b[0m\u001b[0;34m\u001b[0m\u001b[0m\n\u001b[1;32m      8\u001b[0m     \u001b[0mloss\u001b[0m \u001b[0;34m=\u001b[0m \u001b[0mloss_fn\u001b[0m\u001b[0;34m(\u001b[0m\u001b[0my_pred\u001b[0m\u001b[0;34m,\u001b[0m \u001b[0my_train_torch\u001b[0m\u001b[0;34m)\u001b[0m\u001b[0;34m\u001b[0m\u001b[0;34m\u001b[0m\u001b[0m\n",
            "\u001b[0;32m/usr/local/lib/python3.6/dist-packages/torch/nn/modules/module.py\u001b[0m in \u001b[0;36m__call__\u001b[0;34m(self, *input, **kwargs)\u001b[0m\n\u001b[1;32m    539\u001b[0m             \u001b[0mresult\u001b[0m \u001b[0;34m=\u001b[0m \u001b[0mself\u001b[0m\u001b[0;34m.\u001b[0m\u001b[0m_slow_forward\u001b[0m\u001b[0;34m(\u001b[0m\u001b[0;34m*\u001b[0m\u001b[0minput\u001b[0m\u001b[0;34m,\u001b[0m \u001b[0;34m**\u001b[0m\u001b[0mkwargs\u001b[0m\u001b[0;34m)\u001b[0m\u001b[0;34m\u001b[0m\u001b[0;34m\u001b[0m\u001b[0m\n\u001b[1;32m    540\u001b[0m         \u001b[0;32melse\u001b[0m\u001b[0;34m:\u001b[0m\u001b[0;34m\u001b[0m\u001b[0;34m\u001b[0m\u001b[0m\n\u001b[0;32m--> 541\u001b[0;31m             \u001b[0mresult\u001b[0m \u001b[0;34m=\u001b[0m \u001b[0mself\u001b[0m\u001b[0;34m.\u001b[0m\u001b[0mforward\u001b[0m\u001b[0;34m(\u001b[0m\u001b[0;34m*\u001b[0m\u001b[0minput\u001b[0m\u001b[0;34m,\u001b[0m \u001b[0;34m**\u001b[0m\u001b[0mkwargs\u001b[0m\u001b[0;34m)\u001b[0m\u001b[0;34m\u001b[0m\u001b[0;34m\u001b[0m\u001b[0m\n\u001b[0m\u001b[1;32m    542\u001b[0m         \u001b[0;32mfor\u001b[0m \u001b[0mhook\u001b[0m \u001b[0;32min\u001b[0m \u001b[0mself\u001b[0m\u001b[0;34m.\u001b[0m\u001b[0m_forward_hooks\u001b[0m\u001b[0;34m.\u001b[0m\u001b[0mvalues\u001b[0m\u001b[0;34m(\u001b[0m\u001b[0;34m)\u001b[0m\u001b[0;34m:\u001b[0m\u001b[0;34m\u001b[0m\u001b[0;34m\u001b[0m\u001b[0m\n\u001b[1;32m    543\u001b[0m             \u001b[0mhook_result\u001b[0m \u001b[0;34m=\u001b[0m \u001b[0mhook\u001b[0m\u001b[0;34m(\u001b[0m\u001b[0mself\u001b[0m\u001b[0;34m,\u001b[0m \u001b[0minput\u001b[0m\u001b[0;34m,\u001b[0m \u001b[0mresult\u001b[0m\u001b[0;34m)\u001b[0m\u001b[0;34m\u001b[0m\u001b[0;34m\u001b[0m\u001b[0m\n",
            "\u001b[0;32m<ipython-input-374-e714422860ad>\u001b[0m in \u001b[0;36mforward\u001b[0;34m(self, x)\u001b[0m\n\u001b[1;32m     10\u001b[0m         \u001b[0mself\u001b[0m\u001b[0;34m.\u001b[0m\u001b[0mact\u001b[0m \u001b[0;34m=\u001b[0m \u001b[0mnn\u001b[0m\u001b[0;34m.\u001b[0m\u001b[0mReLU\u001b[0m\u001b[0;34m(\u001b[0m\u001b[0;34m)\u001b[0m\u001b[0;34m\u001b[0m\u001b[0;34m\u001b[0m\u001b[0m\n\u001b[1;32m     11\u001b[0m     \u001b[0;32mdef\u001b[0m \u001b[0mforward\u001b[0m\u001b[0;34m(\u001b[0m\u001b[0mself\u001b[0m\u001b[0;34m,\u001b[0m \u001b[0mx\u001b[0m\u001b[0;34m)\u001b[0m\u001b[0;34m:\u001b[0m\u001b[0;34m\u001b[0m\u001b[0;34m\u001b[0m\u001b[0m\n\u001b[0;32m---> 12\u001b[0;31m         \u001b[0mpred\u001b[0m\u001b[0;34m,\u001b[0m \u001b[0mhidden\u001b[0m \u001b[0;34m=\u001b[0m \u001b[0mself\u001b[0m\u001b[0;34m.\u001b[0m\u001b[0mrnn\u001b[0m\u001b[0;34m(\u001b[0m\u001b[0mx\u001b[0m\u001b[0;34m)\u001b[0m\u001b[0;34m\u001b[0m\u001b[0;34m\u001b[0m\u001b[0m\n\u001b[0m\u001b[1;32m     13\u001b[0m         \u001b[0mpred\u001b[0m \u001b[0;34m=\u001b[0m \u001b[0mself\u001b[0m\u001b[0;34m.\u001b[0m\u001b[0mact\u001b[0m\u001b[0;34m(\u001b[0m\u001b[0mself\u001b[0m\u001b[0;34m.\u001b[0m\u001b[0mlinear\u001b[0m\u001b[0;34m(\u001b[0m\u001b[0mpred\u001b[0m\u001b[0;34m)\u001b[0m\u001b[0;34m)\u001b[0m\u001b[0;34m\u001b[0m\u001b[0;34m\u001b[0m\u001b[0m\n\u001b[1;32m     14\u001b[0m         \u001b[0;32mreturn\u001b[0m \u001b[0mpred\u001b[0m\u001b[0;34m\u001b[0m\u001b[0;34m\u001b[0m\u001b[0m\n",
            "\u001b[0;32m/usr/local/lib/python3.6/dist-packages/torch/nn/modules/module.py\u001b[0m in \u001b[0;36m__call__\u001b[0;34m(self, *input, **kwargs)\u001b[0m\n\u001b[1;32m    539\u001b[0m             \u001b[0mresult\u001b[0m \u001b[0;34m=\u001b[0m \u001b[0mself\u001b[0m\u001b[0;34m.\u001b[0m\u001b[0m_slow_forward\u001b[0m\u001b[0;34m(\u001b[0m\u001b[0;34m*\u001b[0m\u001b[0minput\u001b[0m\u001b[0;34m,\u001b[0m \u001b[0;34m**\u001b[0m\u001b[0mkwargs\u001b[0m\u001b[0;34m)\u001b[0m\u001b[0;34m\u001b[0m\u001b[0;34m\u001b[0m\u001b[0m\n\u001b[1;32m    540\u001b[0m         \u001b[0;32melse\u001b[0m\u001b[0;34m:\u001b[0m\u001b[0;34m\u001b[0m\u001b[0;34m\u001b[0m\u001b[0m\n\u001b[0;32m--> 541\u001b[0;31m             \u001b[0mresult\u001b[0m \u001b[0;34m=\u001b[0m \u001b[0mself\u001b[0m\u001b[0;34m.\u001b[0m\u001b[0mforward\u001b[0m\u001b[0;34m(\u001b[0m\u001b[0;34m*\u001b[0m\u001b[0minput\u001b[0m\u001b[0;34m,\u001b[0m \u001b[0;34m**\u001b[0m\u001b[0mkwargs\u001b[0m\u001b[0;34m)\u001b[0m\u001b[0;34m\u001b[0m\u001b[0;34m\u001b[0m\u001b[0m\n\u001b[0m\u001b[1;32m    542\u001b[0m         \u001b[0;32mfor\u001b[0m \u001b[0mhook\u001b[0m \u001b[0;32min\u001b[0m \u001b[0mself\u001b[0m\u001b[0;34m.\u001b[0m\u001b[0m_forward_hooks\u001b[0m\u001b[0;34m.\u001b[0m\u001b[0mvalues\u001b[0m\u001b[0;34m(\u001b[0m\u001b[0;34m)\u001b[0m\u001b[0;34m:\u001b[0m\u001b[0;34m\u001b[0m\u001b[0;34m\u001b[0m\u001b[0m\n\u001b[1;32m    543\u001b[0m             \u001b[0mhook_result\u001b[0m \u001b[0;34m=\u001b[0m \u001b[0mhook\u001b[0m\u001b[0;34m(\u001b[0m\u001b[0mself\u001b[0m\u001b[0;34m,\u001b[0m \u001b[0minput\u001b[0m\u001b[0;34m,\u001b[0m \u001b[0mresult\u001b[0m\u001b[0;34m)\u001b[0m\u001b[0;34m\u001b[0m\u001b[0;34m\u001b[0m\u001b[0m\n",
            "\u001b[0;32m/usr/local/lib/python3.6/dist-packages/torch/nn/modules/rnn.py\u001b[0m in \u001b[0;36mforward\u001b[0;34m(self, input, hx)\u001b[0m\n\u001b[1;32m    205\u001b[0m         \u001b[0;32mif\u001b[0m \u001b[0mbatch_sizes\u001b[0m \u001b[0;32mis\u001b[0m \u001b[0;32mNone\u001b[0m\u001b[0;34m:\u001b[0m\u001b[0;34m\u001b[0m\u001b[0;34m\u001b[0m\u001b[0m\n\u001b[1;32m    206\u001b[0m             result = _impl(input, hx, self._get_flat_weights(), self.bias, self.num_layers,\n\u001b[0;32m--> 207\u001b[0;31m                            self.dropout, self.training, self.bidirectional, self.batch_first)\n\u001b[0m\u001b[1;32m    208\u001b[0m         \u001b[0;32melse\u001b[0m\u001b[0;34m:\u001b[0m\u001b[0;34m\u001b[0m\u001b[0;34m\u001b[0m\u001b[0m\n\u001b[1;32m    209\u001b[0m             result = _impl(input, batch_sizes, hx, self._get_flat_weights(), self.bias,\n",
            "\u001b[0;31mKeyboardInterrupt\u001b[0m: "
          ]
        }
      ]
    },
    {
      "cell_type": "markdown",
      "metadata": {
        "id": "qhq0EdJDysr2",
        "colab_type": "text"
      },
      "source": [
        "Methods to visualise data"
      ]
    },
    {
      "cell_type": "code",
      "metadata": {
        "id": "PAfbaJ3adfoj",
        "colab_type": "code",
        "colab": {}
      },
      "source": [
        "def compare_spectrogram(filter_type, original_signal, filtered_signal, sr=16000):\n",
        "    \"\"\"Plots the spectrogram of the audio and the filtered audio signals in a subplot\n",
        "    :param filter_type: type of used filter\n",
        "    :param original_signal: original audio signal\n",
        "    :param filtered_signal: filtered audio signal\n",
        "    :param sr: sampling rate\n",
        "    \"\"\"\n",
        "    plt.subplot(1, 2, 1)\n",
        "    plt.title('Original')\n",
        "    plt.specgram(x=original_signal, Fs=sr)\n",
        "    plt.axis(ymin=10, ymax=10000)\n",
        "    plt.subplot(1, 2, 2)\n",
        "    plt.title(filter_type)\n",
        "    plt.specgram(x=filtered_signal, Fs=sr)\n",
        "    plt.axis(ymin=10, ymax=10000)\n",
        "    plt.show()\n",
        "\n",
        "\n",
        "def compare_magnitude(filter_type, original_audio, filtered_audio, sr=16000):\n",
        "    \"\"\"Plots magnitude of the audio and the filtered audio signals in a subplot\n",
        "    :param filter_type: type of used filter\n",
        "    :param original_audio: original audio signal\n",
        "    :param filtered_audio: filtered audio signal\n",
        "    :param sr: sampling rate\n",
        "    \"\"\"\n",
        "    plt.grid(True)\n",
        "    plt.subplot(2, 1, 1)\n",
        "    plt.title('Original')\n",
        "    librosa.display.waveplot(original_audio, sr=sr)\n",
        "    plt.subplot(2, 1, 2)\n",
        "    plt.title('Filtered by ' + filter_type)\n",
        "    librosa.display.waveplot(filtered_audio, sr=sr)\n",
        "    plt.show()\n",
        "\n",
        "    plt.plot(original_audio, label='Input', color='r')\n",
        "    plt.plot(filtered_audio, label='Output', color='b')\n",
        "    plt.show()\n"
      ],
      "execution_count": 0,
      "outputs": []
    },
    {
      "cell_type": "code",
      "metadata": {
        "id": "OU7PZvjdEjcJ",
        "colab_type": "code",
        "colab": {}
      },
      "source": [
        "print(chunks(split_signal(add_noise(signals[1], noises[2]), input_size)))\n",
        "X_test_torch = torch.from_numpy(np.array([split_signal(add_noise(signals[1], noises[2]), input_size)])).float()\n",
        "y_test_torch = torch.from_numpy(np.array([split_signal(signals[1], input_size)])).float()\n",
        "y_pred = model(X_test_torch)\n",
        "compare_magnitude(\"RNN\", X_test_torch.data.numpy().reshape(-1), y_pred.data.numpy().reshape(-1))"
      ],
      "execution_count": 0,
      "outputs": []
    },
    {
      "cell_type": "code",
      "metadata": {
        "id": "ndvFvvLFFUkQ",
        "colab_type": "code",
        "colab": {}
      },
      "source": [
        "Audio(data=y_test_torch.reshape(1, -1)[:100], rate=16000)"
      ],
      "execution_count": 0,
      "outputs": []
    },
    {
      "cell_type": "code",
      "metadata": {
        "id": "l-MsaoIQXNt8",
        "colab_type": "code",
        "colab": {}
      },
      "source": [
        "\n",
        "Audio(data=y_pred.data.reshape(1, -1)[:100], rate=16000)"
      ],
      "execution_count": 0,
      "outputs": []
    },
    {
      "cell_type": "code",
      "metadata": {
        "id": "G5s1LzAeDoDk",
        "colab_type": "code",
        "colab": {}
      },
      "source": [
        "Audio(data=X_test_torch.reshape(1, -1)[:100], rate=16000)"
      ],
      "execution_count": 0,
      "outputs": []
    }
  ]
}